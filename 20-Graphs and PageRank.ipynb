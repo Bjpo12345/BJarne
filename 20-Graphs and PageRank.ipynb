{
 "cells": [
  {
   "cell_type": "markdown",
   "metadata": {
    "slideshow": {
     "slide_type": "subslide"
    }
   },
   "source": [
    "## Sets"
   ]
  },
  {
   "cell_type": "markdown",
   "metadata": {
    "slideshow": {
     "slide_type": "subslide"
    }
   },
   "source": [
    "* Empty set: $Ø = \\{\\}$\n",
    "* Non-empty set: $\\{1\\}$\n",
    "* Non-empty set: $\\{Red, Green\\}$\n",
    "* Distinct\n",
    "  * Set of the list $[1, 2, 2, 3]$ is $\\{1, 2, 3\\}$\n",
    "  * Set of $[Red, Green, Yellow, Green]$ is $\\{Red, Green, Yellow\\}$\n",
    "* Order doesn't matter\n",
    "  * $\\{Red, Green\\} == \\{Green, Red\\}$"
   ]
  },
  {
   "cell_type": "markdown",
   "metadata": {
    "slideshow": {
     "slide_type": "subslide"
    }
   },
   "source": [
    "## Different sets\n",
    "\n",
    "* The empty set, $Ø = \\{\\}$\n",
    "* All the students in this class\n",
    "* All the natural numbers, $\\mathbb{N} = \\{0, 1, 2, 3, 4 \\dots\\}$"
   ]
  },
  {
   "cell_type": "markdown",
   "metadata": {
    "slideshow": {
     "slide_type": "fragment"
    }
   },
   "source": [
    "\n",
    "* All the integers, $\\mathbb{Z} = \\{-\\infty, \\dots, -1, 0, 1, \\dots, \\infty\\}$\n",
    "* All the rational numbers $\\mathbb{Q} = \\{0, -2, 10, \\frac{-2832}{123}, \\frac{72}{1923892}, \\frac{67821}{1298732}, \\dots \\}$\n",
    "* All the real numbers, $\\mathbb{R} = \\{0, -2, 10, \\frac{-2832}{123}, \\frac{72}{1923892}, \\frac{67821}{1298732}, \\sqrt 2, \\pi, \\dots, \\infty\\}$"
   ]
  },
  {
   "cell_type": "markdown",
   "metadata": {
    "slideshow": {
     "slide_type": "subslide"
    }
   },
   "source": [
    "## Set membership\n",
    "\n",
    "* $4 \\in \\{1, 2, 3, 4, 5\\}$\n",
    "  * 4 **is a member of** the set $\\{1, 2, 3, 4, 5\\}$\n",
    "* $7 \\notin \\{1, 2, 3, 4, 5\\}$\n",
    "  * 7 **is not a member of** the set $\\{1, 2, 3, 4, 5\\}$"
   ]
  },
  {
   "cell_type": "markdown",
   "metadata": {
    "slideshow": {
     "slide_type": "subslide"
    }
   },
   "source": [
    "## Exercise on sets\n",
    "**Are these numbers inside the sets as stated below?**\n",
    "\n",
    "<table>\n",
    "    <tr><td>\n",
    "<ul>\n",
    "    <li>$4 \\in \\mathbb{R}$</li>\n",
    "<li>$\\pi \\in \\mathbb{Q}$</li>\n",
    "<li>$\\frac{2}{3} \\in \\mathbb{R}$</li>\n",
    "<li>$\\sqrt 2 \\notin \\mathbb{Q}$</li>\n",
    "<li>$-5 \\in \\mathbb{N}$</li>\n",
    "        <li>$log(7) \\notin \\mathbb{Q}$</li>\n",
    "        </td>\n",
    "        <td><img src=\"numbersystem.png\"/></td>\n",
    "    </tr>\n",
    "    </table>"
   ]
  },
  {
   "cell_type": "markdown",
   "metadata": {
    "slideshow": {
     "slide_type": "skip"
    }
   },
   "source": [
    "# What is a Graph?\n",
    "\n",
    "\n",
    "## Undirected Graphs\n",
    "\n",
    "A *graph* $G$ consists of a nonempty set, $V(G)$, called the *vertices* of $G$, and a set $E(G)$ called the *edges* of $G$. An element of $V(G)$ is called a *vertex*. A vertex is also called a *node*; the words \"vertex\" and \"node\" are used interchangeably. An element of $E(G)$ is an *undirected* edge or simply an \"edge\". An undirected edge has two vertices $u\\neq v$ called its endpoints. Such an edge can be represented by the two element set $\\{u, v\\}$. The notation $\\langle u—v \\rangle$ denotes this edge.\n",
    "Both $\\langle u—v \\rangle$ and $\\langle v—u \\rangle$ define the same undirected edge, whose endpoints are $u$ and $v$.\n",
    "\n",
    "![](./images/graph_example.png)\n",
    "\n",
    "For example, let $H$ be the graph pictured in Figure above. The vertices of $H$\n",
    "correspond to the nine dots, that is, $V(H) = \\{a,b,c,d,e,f,g,h,i\\}$\n",
    "\n",
    "The edges correspond to the eight lines, that is,\n",
    "\n",
    "$E(H) = \\big\\{\\langle a—b \\rangle,\\langle a—c \\rangle,\\langle b—d \\rangle,\\langle c—d \\rangle,\\langle c—e \\rangle,\\langle e—f \\rangle,\\langle e—g \\rangle,\\langle h—i \\rangle\\big\\} $\n",
    "\n",
    "\n",
    "## Directed Graphs\n",
    "\n",
    "A *directed graph* -or *digraph*- $G$ consists of a nonempty set $V(G)$, called the vertices of $G$, and a set $E(G)$, called the edges of $G$. An element of $V(G)$ is called a *vertex*. A vertex is also called a *node*; the words \"vertex\" and \"node\" are used interchangeably. An element of $E(G)$ is called a *directed edge*. A directed edge is also called an \"arrow\" or simply an \"edge\". A directed edge starts at some vertex $u$ called the *tail* of the edge, and ends at some vertex $v$ called the *head* of the edge.\n",
    "\n",
    "![](./images/digraph_example.png)\n",
    "\n",
    "\n",
    "### Vertex Degrees\n",
    "\n",
    "The *in-degree* of a vertex in a digraph is the number of arrows coming into it, and similarly its *out-degree* is the number of arrows out of it. More precisely,\n",
    "\n",
    "If $G$ is a *digraph* and $v \\in V(G)$, then \n",
    "    \n",
    "  * $indeg(v) ::= \\big\\vert e \\in \\{E(G)\\, \\vert\\, head(e) = v \\}\\big\\vert$\n",
    "  * $outdeg(v) ::= \\big\\vert e \\in \\{E(G)\\, \\vert\\, tail(e) = v \\}\\big\\vert$\n",
    "\n",
    "\n",
    "##### References:\n",
    "The definitions above and the illustrations are taken from the book:\n",
    "*Mathematics for Computer Science*, Eric Lehman, F. Tom Leighton, Albert R. Meyer\n",
    "https://courses.csail.mit.edu/6.042/spring17/mcs.pdf"
   ]
  },
  {
   "cell_type": "markdown",
   "metadata": {
    "slideshow": {
     "slide_type": "slide"
    }
   },
   "source": [
    "# What is a Graph?\n",
    "\n",
    "\n",
    "## Undirected Graphs\n",
    "\n",
    "![](./images/graph_example.png)\n",
    "\n",
    "For example, let $H$ be the graph pictured in Figure above. The vertices of $H$\n",
    "correspond to the nine dots, that is, $V(H) = \\{a,b,c,d,e,f,g,h,i\\}$\n",
    "\n",
    "The edges correspond to the eight lines, that is,\n",
    "\n",
    "$E(H) = \\big\\{\\langle a—b \\rangle,\\langle a—c \\rangle,\\langle b—d \\rangle,\\langle c—d \\rangle,\\langle c—e \\rangle,\\langle e—f \\rangle,\\langle e—g \\rangle,\\langle h—i \\rangle\\big\\} $"
   ]
  },
  {
   "cell_type": "markdown",
   "metadata": {
    "slideshow": {
     "slide_type": "subslide"
    }
   },
   "source": [
    "## Directed Graphs\n",
    "\n",
    "![](./images/digraph_example.png)\n",
    "\n",
    "\n",
    "Edges $E(G)$ are now *directed*."
   ]
  },
  {
   "cell_type": "markdown",
   "metadata": {
    "slideshow": {
     "slide_type": "subslide"
    }
   },
   "source": [
    "\n",
    "### Vertex Degrees\n",
    "\n",
    "The *in-degree* of a vertex in a digraph is the number of arrows coming into it, and similarly its *out-degree* is the number of arrows out of it. More precisely,\n",
    "\n",
    "If $G$ is a *digraph* and $v \\in V(G)$, then \n",
    "    \n",
    "  * $indeg(v) ::= \\big\\vert e \\in \\{E(G)\\, \\vert\\, head(e) = v \\}\\big\\vert$\n",
    "  * $outdeg(v) ::= \\big\\vert e \\in \\{E(G)\\, \\vert\\, tail(e) = v \\}\\big\\vert$\n",
    "\n",
    "\n",
    "##### References:\n",
    "The definitions above and the illustrations are taken from the book:\n",
    "*Mathematics for Computer Science*, Eric Lehman, F. Tom Leighton, Albert R. Meyer\n",
    "https://courses.csail.mit.edu/6.042/spring17/mcs.pdf"
   ]
  },
  {
   "cell_type": "markdown",
   "metadata": {
    "slideshow": {
     "slide_type": "subslide"
    }
   },
   "source": [
    "# Name Generator\n",
    "\n",
    "Lets generate a directed graph -a social network-, which expresses endorsements between various people similar as in *LinkedIn*. The nodes of our digraph will be persons and the edges will represent endorsments. \n",
    "\n",
    "\n",
    "For the nodes, we will generate a set of \"random\" people. That is, we generate names as given in the USA randomly. A list of US American names can be received here:\n",
    "http://www.census.gov/topics/population/genealogy/data/1990_census/1990_census_namefiles.html\n",
    "\n",
    "\n",
    "In the following we download the files and generate three lists, one for female names, one for male names, and one for surnames."
   ]
  },
  {
   "cell_type": "code",
   "execution_count": null,
   "metadata": {
    "slideshow": {
     "slide_type": "subslide"
    }
   },
   "outputs": [],
   "source": [
    "import webget\n",
    "import random\n",
    "\n",
    "\n",
    "surnames_txt = 'http://www2.census.gov/topics/genealogy/1990surnames/dist.all.last'\n",
    "female_names_txt = 'http://www2.census.gov/topics/genealogy/1990surnames/dist.female.first'\n",
    "male_names_txt = 'http://www2.census.gov/topics/genealogy/1990surnames/dist.male.first'\n",
    "\n",
    "webget.download(surnames_txt, to='./last_names.txt')\n",
    "webget.download(female_names_txt, to='./female_names.txt')\n",
    "webget.download(male_names_txt, to='./male_names.txt')"
   ]
  },
  {
   "cell_type": "code",
   "execution_count": null,
   "metadata": {
    "slideshow": {
     "slide_type": "subslide"
    }
   },
   "outputs": [],
   "source": [
    "%%bash\n",
    "ls -ltr *names.txt"
   ]
  },
  {
   "cell_type": "code",
   "execution_count": null,
   "metadata": {
    "slideshow": {
     "slide_type": "subslide"
    }
   },
   "outputs": [],
   "source": [
    "def get_names_from(file):\n",
    "    # ??"
   ]
  },
  {
   "cell_type": "code",
   "execution_count": null,
   "metadata": {
    "slideshow": {
     "slide_type": "subslide"
    }
   },
   "outputs": [],
   "source": [
    "names = get_names_from('./last_names.txt')\n",
    "female_names = get_names_from('./female_names.txt')\n",
    "male_names = get_names_from('./male_names.txt')\n",
    "\n",
    "print(len(names), len(female_names), len(male_names))"
   ]
  },
  {
   "cell_type": "markdown",
   "metadata": {
    "slideshow": {
     "slide_type": "subslide"
    }
   },
   "source": [
    "We decide to let names be a two-element tuple consisting of a name and a surname."
   ]
  },
  {
   "cell_type": "code",
   "execution_count": null,
   "metadata": {
    "slideshow": {
     "slide_type": "subslide"
    }
   },
   "outputs": [],
   "source": [
    "def random_combination(list_a, list_b):\n",
    "    # ??"
   ]
  },
  {
   "cell_type": "code",
   "execution_count": null,
   "metadata": {
    "slideshow": {
     "slide_type": "subslide"
    }
   },
   "outputs": [],
   "source": [
    "def generate_random_names(amount=1, gender='female'):    \n",
    "    # ?\n",
    "    \n",
    "generate_random_names(amount=10, gender='random')"
   ]
  },
  {
   "cell_type": "markdown",
   "metadata": {
    "slideshow": {
     "slide_type": "subslide"
    }
   },
   "source": [
    "# Generating Nodes\n",
    "\n",
    "Now, that we have our name generator in place we are good to start generating our *endorsment graph*.\n",
    "\n",
    "For our example graph, we decide that it contains 100 persons, i.e., 100 nodes. Half of the nodes represents women and the other half represents men."
   ]
  },
  {
   "cell_type": "code",
   "execution_count": null,
   "metadata": {
    "slideshow": {
     "slide_type": "subslide"
    }
   },
   "outputs": [],
   "source": [
    "total_no_nodes = 100\n",
    "no_nodes_per_gender = total_no_nodes // 2"
   ]
  },
  {
   "cell_type": "code",
   "execution_count": null,
   "metadata": {
    "slideshow": {
     "slide_type": "fragment"
    }
   },
   "outputs": [],
   "source": [
    "female_names_list = generate_random_names(amount=no_nodes_per_gender, gender='female')\n",
    "male_names_list = generate_random_names(amount=no_nodes_per_gender, gender='male')"
   ]
  },
  {
   "cell_type": "code",
   "execution_count": null,
   "metadata": {
    "slideshow": {
     "slide_type": "fragment"
    }
   },
   "outputs": [],
   "source": [
    "all_names_list = female_names_list + male_names_list\n",
    "person_list = all_names_list"
   ]
  },
  {
   "cell_type": "code",
   "execution_count": null,
   "metadata": {
    "slideshow": {
     "slide_type": "subslide"
    }
   },
   "outputs": [],
   "source": [
    "print(len(all_names_list))\n",
    "print(all_names_list[:20])"
   ]
  },
  {
   "cell_type": "markdown",
   "metadata": {
    "slideshow": {
     "slide_type": "subslide"
    }
   },
   "source": [
    "# Generating Edges\n",
    "\n",
    "Randomly connected (=endorsed).\n",
    "Also, it is not possible for a person to connect to herself."
   ]
  },
  {
   "cell_type": "code",
   "execution_count": 5,
   "metadata": {
    "slideshow": {
     "slide_type": "subslide"
    }
   },
   "outputs": [],
   "source": [
    "from tqdm import tqdm\n",
    "from random import randint\n",
    "from numpy.random import choice"
   ]
  },
  {
   "cell_type": "code",
   "execution_count": 7,
   "metadata": {
    "slideshow": {
     "slide_type": "fragment"
    }
   },
   "outputs": [],
   "source": [
    "# Sample probability\n",
    "choice?"
   ]
  },
  {
   "cell_type": "code",
   "execution_count": null,
   "metadata": {
    "slideshow": {
     "slide_type": "subslide"
    }
   },
   "outputs": [],
   "source": [
    "RELATION_CLASSES = {\n",
    "        0: (0, 0),\n",
    "        1: (1, 4),\n",
    "        2: (5, 10),\n",
    "        3: (11, 20),\n",
    "        4: (21, 50),\n",
    "        5: (51, 100)\n",
    "    }\n",
    "PROBABILITIES = [0.05, 0.36, 0.45, 0.1, 0.035, 0.005]"
   ]
  },
  {
   "cell_type": "code",
   "execution_count": null,
   "metadata": {
    "slideshow": {
     "slide_type": "subslide"
    }
   },
   "outputs": [],
   "source": [
    "def get_number_of_connections():\n",
    "    no_relation_class = choice(list(RELATION_CLASSES.keys()), \n",
    "                               p=PROBAILITIES)\n",
    "    no_endorsments = randint(RELATION_CLASSES[no_relation_class][0], \n",
    "                             RELATION_CLASSES[no_relation_class][1])\n",
    "    return no_endorsments"
   ]
  },
  {
   "cell_type": "code",
   "execution_count": null,
   "metadata": {
    "slideshow": {
     "slide_type": "subslide"
    }
   },
   "outputs": [],
   "source": [
    "def create_endorsements(node_list):\n",
    "    \"\"\"Creates a list of graph edges\n",
    "    like [(1,10), (50,4), (99,20000), ...]\"\"\"\n",
    "    endorsements = []\n",
    "    idx_list = range(len(node_list))\n",
    "\n",
    "    for idx, name_pair in tqdm(enumerate(node_list)):\n",
    "        # get how many people this person (name_pair) endorses\n",
    "        no_endorsments = get_no_endorsments()\n",
    "        if no_endorsments > 0:\n",
    "            # get a list of potential endorsements\n",
    "            potential_endorsment_idxs = random.sample(idx_list, no_endorsments)\n",
    "            if idx in potential_endorsment_idxs:\n",
    "                # Removing myself in case I am in the list\n",
    "                # cannot endorse myself\n",
    "                idx_me_in_endorsements = potential_endorsment_idxs.index(idx)\n",
    "                del potential_endorsment_idxs[idx_me_in_endorsements]\n",
    "    \n",
    "            endorsements += list(zip([idx for _ in range(len(potential_endorsment_idxs))], \n",
    "                                     potential_endorsment_idxs))\n",
    "    return endorsements\n",
    "\n",
    "endorsements = create_endorsements(person_list)"
   ]
  },
  {
   "cell_type": "code",
   "execution_count": null,
   "metadata": {
    "slideshow": {
     "slide_type": "subslide"
    }
   },
   "outputs": [],
   "source": [
    "print(endorsements[:30])\n",
    "print(person_list)"
   ]
  },
  {
   "cell_type": "code",
   "execution_count": null,
   "metadata": {
    "slideshow": {
     "slide_type": "subslide"
    }
   },
   "outputs": [],
   "source": [
    "%%bash\n",
    "conda install -y networkx=1.11\n",
    "pip install pygraphviz"
   ]
  },
  {
   "cell_type": "code",
   "execution_count": null,
   "metadata": {
    "slideshow": {
     "slide_type": "subslide"
    }
   },
   "outputs": [],
   "source": [
    "%matplotlib inline\n",
    "import warnings\n",
    "warnings.filterwarnings('ignore')"
   ]
  },
  {
   "cell_type": "code",
   "execution_count": null,
   "metadata": {
    "scrolled": true,
    "slideshow": {
     "slide_type": "subslide"
    }
   },
   "outputs": [],
   "source": [
    "import networkx as nx\n",
    "import matplotlib.pyplot as plt\n",
    "from networkx.drawing.nx_agraph import graphviz_layout, write_dot\n",
    "\n",
    "def create_graph():\n",
    "    graph = nx.DiGraph()\n",
    "    graph.clear()\n",
    "\n",
    "    # add node by node, needed to add attributes...\n",
    "    print(len(all_names_list))\n",
    "\n",
    "    for idx, name_pair in enumerate(all_names_list):\n",
    "        graph.add_node(idx, name=' '.join(name_pair))\n",
    "    \n",
    "    # graph.add_nodes_from(all_names_list)\n",
    "    graph.add_edges_from(endorsements)\n",
    "\n",
    "    return graph"
   ]
  },
  {
   "cell_type": "code",
   "execution_count": null,
   "metadata": {
    "slideshow": {
     "slide_type": "subslide"
    }
   },
   "outputs": [],
   "source": [
    "def draw_graph(graph):\n",
    "    nx.draw(graph, pos=graphviz_layout(graph), \n",
    "            node_size=30, width=.05, cmap=plt.cm.Blues, \n",
    "            with_labels=True, node_color=range(len(graph)))\n",
    "    \n",
    "graph = create_graph()\n",
    "draw_graph(graph)\n",
    "\n",
    "#nx.write_gml(graph, './social_network.gml')"
   ]
  },
  {
   "cell_type": "code",
   "execution_count": null,
   "metadata": {
    "slideshow": {
     "slide_type": "subslide"
    }
   },
   "outputs": [],
   "source": [
    "print(graph.node[10]['name'])\n",
    "print(graph.out_degree(10))\n",
    "print(graph.out_edges(10))\n",
    "print(graph.node[graph.out_edges(10)[0][1]])\n",
    "print(graph.in_edges(10))"
   ]
  },
  {
   "cell_type": "code",
   "execution_count": null,
   "metadata": {
    "slideshow": {
     "slide_type": "subslide"
    }
   },
   "outputs": [],
   "source": [
    "# print(graph.node)\n",
    "print(graph.number_of_nodes())"
   ]
  },
  {
   "cell_type": "markdown",
   "metadata": {
    "slideshow": {
     "slide_type": "subslide"
    }
   },
   "source": [
    "## Who is the most interesting person in our network?\n",
    "\n",
    "Likely, you are tempted to find the person in the graph, which has the highest in-degree. For example with code similar to the following."
   ]
  },
  {
   "cell_type": "code",
   "execution_count": null,
   "metadata": {
    "slideshow": {
     "slide_type": "subslide"
    }
   },
   "outputs": [],
   "source": [
    "import numpy as np\n",
    "\n",
    "in_deg_vec = np.array([graph.in_degree(n) for n in graph.nodes()])\n",
    "max_ind_deg = in_deg_vec.max()"
   ]
  },
  {
   "cell_type": "code",
   "execution_count": null,
   "metadata": {
    "slideshow": {
     "slide_type": "subslide"
    }
   },
   "outputs": [],
   "source": [
    "print(np.argmax(in_deg_vec))\n",
    "print(graph.node[np.argmax(in_deg_vec)]['name'])"
   ]
  },
  {
   "cell_type": "markdown",
   "metadata": {
    "slideshow": {
     "slide_type": "subslide"
    }
   },
   "source": [
    "However, there is an issue with this solution. To make yourself the most interesting person you would just have to create a lot of profiles of people endorsing you. This issue can be overcome by applying the *PageRank* algorithm."
   ]
  },
  {
   "cell_type": "code",
   "execution_count": null,
   "metadata": {
    "slideshow": {
     "slide_type": "subslide"
    }
   },
   "outputs": [],
   "source": [
    "d = 0.85\n",
    "n = graph.number_of_nodes()\n",
    "sub_term = (1 - d) / n\n",
    "\n",
    "def page_rank(p):\n",
    "    \n",
    "    page_rank = sub_term  + (d * pass)\n",
    "    return page_rank"
   ]
  },
  {
   "cell_type": "markdown",
   "metadata": {
    "slideshow": {
     "slide_type": "subslide"
    }
   },
   "source": [
    "## Working with a twitter dataset\n",
    "\n",
    "https://snap.stanford.edu/data/egonets-Twitter.html"
   ]
  },
  {
   "cell_type": "code",
   "execution_count": null,
   "metadata": {
    "slideshow": {
     "slide_type": "subslide"
    }
   },
   "outputs": [],
   "source": [
    "!wget https://snap.stanford.edu/data/twitter_combined.txt.gz"
   ]
  },
  {
   "cell_type": "code",
   "execution_count": null,
   "metadata": {
    "slideshow": {
     "slide_type": "subslide"
    }
   },
   "outputs": [],
   "source": [
    "!gunzip twitter_combined.txt.gz"
   ]
  },
  {
   "cell_type": "code",
   "execution_count": null,
   "metadata": {
    "slideshow": {
     "slide_type": "subslide"
    }
   },
   "outputs": [],
   "source": [
    "import networkx as nx"
   ]
  },
  {
   "cell_type": "code",
   "execution_count": null,
   "metadata": {
    "slideshow": {
     "slide_type": "subslide"
    }
   },
   "outputs": [],
   "source": [
    "g = nx.read_edgelist('twitter_combined.txt')"
   ]
  },
  {
   "cell_type": "markdown",
   "metadata": {
    "slideshow": {
     "slide_type": "subslide"
    }
   },
   "source": [
    "## Networkx documentation for undirected graphs\n",
    "https://networkx.github.io/documentation/stable/reference/classes/graph.html"
   ]
  },
  {
   "cell_type": "code",
   "execution_count": null,
   "metadata": {
    "slideshow": {
     "slide_type": "subslide"
    }
   },
   "outputs": [],
   "source": [
    "nx.info(g)"
   ]
  },
  {
   "cell_type": "code",
   "execution_count": null,
   "metadata": {
    "slideshow": {
     "slide_type": "subslide"
    }
   },
   "outputs": [],
   "source": [
    "'214328887' in g"
   ]
  },
  {
   "cell_type": "code",
   "execution_count": null,
   "metadata": {
    "slideshow": {
     "slide_type": "subslide"
    }
   },
   "outputs": [],
   "source": [
    "g['214328887']"
   ]
  },
  {
   "cell_type": "code",
   "execution_count": null,
   "metadata": {
    "slideshow": {
     "slide_type": "subslide"
    }
   },
   "outputs": [],
   "source": [
    "len(g)"
   ]
  },
  {
   "cell_type": "code",
   "execution_count": null,
   "metadata": {
    "slideshow": {
     "slide_type": "subslide"
    }
   },
   "outputs": [],
   "source": [
    "g.neighbors('214328887')"
   ]
  },
  {
   "cell_type": "code",
   "execution_count": null,
   "metadata": {
    "slideshow": {
     "slide_type": "subslide"
    }
   },
   "outputs": [],
   "source": [
    "for neighbor in g.neighbors('214328887'):\n",
    "    print(neighbor)"
   ]
  },
  {
   "cell_type": "markdown",
   "metadata": {
    "slideshow": {
     "slide_type": "slide"
    }
   },
   "source": [
    "# PageRank Algorithm\n",
    "\n",
    "**PageRank** was one of the two original ideas that set Google's search apart from other Web search engines when it was introduced in 1997.\n",
    "\n",
    "PageRank was invented to solve the problem of term-frequency (TF) tyranny: if we are searching for `IBM`, how do we make sure that the *first* result is IBM's website, and not a random page that mentioned `IBM` more frequently?\n",
    "\n",
    "##### References:\n",
    "The above description is from *Artificial Intelligence: A Modern Approach Third Edition* by Stuart J. Russell and Peter Norvig."
   ]
  },
  {
   "cell_type": "markdown",
   "metadata": {
    "slideshow": {
     "slide_type": "subslide"
    }
   },
   "source": [
    "## Let's Implement PageRank Together!\n",
    "\n",
    "Perhaps it is best, when we start implementing a function that encodes the *PageRank* formula.\n",
    "\n",
    "\n",
    "$PR(p) = \\frac{1-d}{N} + d \\sum_{i}^{} \\frac{PR(in_{i})}{C(in_{i})}$\n",
    "\n",
    "Where $PR(p)$ is the page rank of page $p$, $N$ is the total number of pages, $in_i$ are the pages that link *to* page $p$ and $C(in_i)$ is the count of the total number of out-links on page $in_i$. The constant $d$ is a dampening factor to reduce the value for each link.\n",
    "\n",
    "This is an iterative algorithm, where we start with all pages having rank = 1."
   ]
  },
  {
   "cell_type": "code",
   "execution_count": null,
   "metadata": {
    "slideshow": {
     "slide_type": "skip"
    }
   },
   "outputs": [],
   "source": [
    "import numpy as np\n",
    "\n",
    "GLOBAL_PR = np.Uones(graph.number_of_nodes())\n",
    "\n",
    "def compute_page_rank(graph, no_it=100):\n",
    "    \"\"\"Computes the page rank of the given graph\n",
    "    \n",
    "    Arguments:\n",
    "      graph: A networkx graph\n",
    "      no_it: A number of iterations to run the algorithm\n",
    "    \"\"\"\n",
    "    #?"
   ]
  },
  {
   "cell_type": "code",
   "execution_count": null,
   "metadata": {
    "slideshow": {
     "slide_type": "subslide"
    }
   },
   "outputs": [],
   "source": [
    "compute_page_rank(graph, no_it=100)\n",
    "print('The highest PR is {}'.format(GLOBAL_PR[np.argmax(GLOBAL_PR)]))\n",
    "print('The node with the highest PR is {}'.format(np.argmax(GLOBAL_PR)))\n",
    "print('The person with the highest PR is {}'.format(graph.node[np.argmax(GLOBAL_PR)]['name']))\n",
    "print(GLOBAL_PR)"
   ]
  },
  {
   "cell_type": "code",
   "execution_count": null,
   "metadata": {},
   "outputs": [],
   "source": []
  },
  {
   "cell_type": "code",
   "execution_count": null,
   "metadata": {},
   "outputs": [],
   "source": []
  },
  {
   "cell_type": "code",
   "execution_count": null,
   "metadata": {},
   "outputs": [],
   "source": [
    "import numpy as np\n",
    "\n",
    "\n",
    "GLOBAL_PR = np.ones(graph.number_of_nodes())\n",
    "\n",
    "\n",
    "def page_rank(node):\n",
    "    n = graph.number_of_nodes()\n",
    "    damping = 0.85\n",
    "\n",
    "    pr_in = np.array([GLOBAL_PR[remote] for remote, _ in graph.in_edges(node)])\n",
    "    c = np.array([graph.out_degree(remote) for remote, _ in graph.in_edges(node)])\n",
    "    pr_p = ((1 - damping) / n) + (damping * np.sum(pr_in / c))\n",
    "\n",
    "    return pr_p\n",
    "        \n",
    "\n",
    "def compute_page_rank_step(graph):\n",
    "    return np.array([page_rank(n) for n in graph.nodes()])\n",
    "    \n",
    "    \n",
    "def compute_page_rank(graph, no_it=100):\n",
    "    global GLOBAL_PR\n",
    "    if no_it == 'converge':\n",
    "        converged = False\n",
    "        it_count = 0\n",
    "        while not converged:\n",
    "            new_pr = compute_page_rank_step(graph)\n",
    "            converged = np.array_equal(GLOBAL_PR, new_pr)\n",
    "            GLOBAL_PR = new_pr \n",
    "            it_count += 1\n",
    "            \n",
    "        print('It took me {} iterations to converge'.format(it_count))\n",
    "    else:\n",
    "        for idx in range(no_it):\n",
    "            GLOBAL_PR = compute_page_rank_step(graph)\n",
    "            \n",
    "compute_page_rank(graph, no_it='converge')\n",
    "print('The highest PR is {}'.format(GLOBAL_PR[np.argmax(GLOBAL_PR)]))\n",
    "print('The node with the highest PR is {}'.format(np.argmax(GLOBAL_PR)))\n",
    "print('The person with the highest PR is {}'.format(graph.node[np.argmax(GLOBAL_PR)]['name']))\n",
    "print(GLOBAL_PR)"
   ]
  },
  {
   "cell_type": "code",
   "execution_count": null,
   "metadata": {},
   "outputs": [],
   "source": [
    "print(graph.node[27]['name'])"
   ]
  }
 ],
 "metadata": {
  "celltoolbar": "Slideshow",
  "kernelspec": {
   "display_name": "Python 3",
   "language": "python",
   "name": "python3"
  },
  "language_info": {
   "codemirror_mode": {
    "name": "ipython",
    "version": 3
   },
   "file_extension": ".py",
   "mimetype": "text/x-python",
   "name": "python",
   "nbconvert_exporter": "python",
   "pygments_lexer": "ipython3",
   "version": "3.6.7"
  }
 },
 "nbformat": 4,
 "nbformat_minor": 2
}
